{
 "cells": [
  {
   "cell_type": "code",
   "execution_count": 1,
   "id": "13cf3af9",
   "metadata": {},
   "outputs": [],
   "source": [
    "import pandas as pd\n",
    "import spacy\n",
    "\n",
    "import warnings\n",
    "warnings.filterwarnings('ignore')"
   ]
  },
  {
   "cell_type": "code",
   "execution_count": 2,
   "id": "98b73dec",
   "metadata": {},
   "outputs": [],
   "source": [
    "df = pd.read_csv(r\"C:\\Users\\DELL\\Desktop\\Taiyo\\world_bank_preprocessed.csv\")"
   ]
  },
  {
   "cell_type": "code",
   "execution_count": 3,
   "id": "a8979e1d",
   "metadata": {},
   "outputs": [],
   "source": [
    "df_ner = df[[\"Project Name\", \"Project Development Objective \"]]"
   ]
  },
  {
   "cell_type": "code",
   "execution_count": 4,
   "id": "4beec567",
   "metadata": {},
   "outputs": [],
   "source": [
    "nlp = spacy.load(\"en_core_web_sm\")"
   ]
  },
  {
   "cell_type": "code",
   "execution_count": 5,
   "id": "f693a97f",
   "metadata": {},
   "outputs": [],
   "source": [
    "def extract_entities(text):\n",
    "    doc = nlp(text)\n",
    "    entities = [(ent.text, ent.label_) for ent in doc.ents]\n",
    "    return entities"
   ]
  },
  {
   "cell_type": "code",
   "execution_count": 6,
   "id": "66e8c694",
   "metadata": {},
   "outputs": [],
   "source": [
    "df_ner[\"Extracted Entities (Project Name)\"] = \"\"\n",
    "\n",
    "for i, row in df.iterrows():\n",
    "    project_name = row[\"Project Name\"]\n",
    "    entities = extract_entities(project_name)\n",
    "    df_ner.at[i, \"Extracted Entities (Project Name)\"] = entities"
   ]
  },
  {
   "cell_type": "code",
   "execution_count": 7,
   "id": "c9491c94",
   "metadata": {},
   "outputs": [
    {
     "data": {
      "text/html": [
       "<div>\n",
       "<style scoped>\n",
       "    .dataframe tbody tr th:only-of-type {\n",
       "        vertical-align: middle;\n",
       "    }\n",
       "\n",
       "    .dataframe tbody tr th {\n",
       "        vertical-align: top;\n",
       "    }\n",
       "\n",
       "    .dataframe thead th {\n",
       "        text-align: right;\n",
       "    }\n",
       "</style>\n",
       "<table border=\"1\" class=\"dataframe\">\n",
       "  <thead>\n",
       "    <tr style=\"text-align: right;\">\n",
       "      <th></th>\n",
       "      <th>Project Name</th>\n",
       "      <th>Project Development Objective</th>\n",
       "      <th>Extracted Entities (Project Name)</th>\n",
       "    </tr>\n",
       "  </thead>\n",
       "  <tbody>\n",
       "    <tr>\n",
       "      <th>0</th>\n",
       "      <td>Power and Irrigation Project</td>\n",
       "      <td>Objective to be Determined.</td>\n",
       "      <td>[]</td>\n",
       "    </tr>\n",
       "    <tr>\n",
       "      <th>1</th>\n",
       "      <td>Agricultural Machinery Project</td>\n",
       "      <td>Objective to be Determined.</td>\n",
       "      <td>[(Agricultural Machinery Project, ORG)]</td>\n",
       "    </tr>\n",
       "    <tr>\n",
       "      <th>2</th>\n",
       "      <td>Electric Power Development Project</td>\n",
       "      <td>Objective to be Determined.</td>\n",
       "      <td>[(Electric Power Development Project, ORG)]</td>\n",
       "    </tr>\n",
       "    <tr>\n",
       "      <th>3</th>\n",
       "      <td>Electric Power Development Project</td>\n",
       "      <td>Objective to be Determined.</td>\n",
       "      <td>[(Electric Power Development Project, ORG)]</td>\n",
       "    </tr>\n",
       "    <tr>\n",
       "      <th>4</th>\n",
       "      <td>Power and Telephone Project</td>\n",
       "      <td>Objective to be Determined.</td>\n",
       "      <td>[(Telephone Project, ORG)]</td>\n",
       "    </tr>\n",
       "  </tbody>\n",
       "</table>\n",
       "</div>"
      ],
      "text/plain": [
       "                         Project Name Project Development Objective   \\\n",
       "0        Power and Irrigation Project    Objective to be Determined.   \n",
       "1      Agricultural Machinery Project    Objective to be Determined.   \n",
       "2  Electric Power Development Project    Objective to be Determined.   \n",
       "3  Electric Power Development Project    Objective to be Determined.   \n",
       "4         Power and Telephone Project    Objective to be Determined.   \n",
       "\n",
       "             Extracted Entities (Project Name)  \n",
       "0                                           []  \n",
       "1      [(Agricultural Machinery Project, ORG)]  \n",
       "2  [(Electric Power Development Project, ORG)]  \n",
       "3  [(Electric Power Development Project, ORG)]  \n",
       "4                   [(Telephone Project, ORG)]  "
      ]
     },
     "execution_count": 7,
     "metadata": {},
     "output_type": "execute_result"
    }
   ],
   "source": [
    "df_ner.head()"
   ]
  },
  {
   "cell_type": "code",
   "execution_count": 8,
   "id": "cc8eea22",
   "metadata": {},
   "outputs": [],
   "source": [
    "df_ner[\"Extracted Entities (Project Development Objective)\"] = \"\"\n",
    "\n",
    "for i, row in df.iterrows():\n",
    "    project_name = row[\"Project Development Objective \"]\n",
    "    entities = extract_entities(project_name)\n",
    "    df_ner.at[i, \"Extracted Entities (Project Development Objective)\"] = entities"
   ]
  },
  {
   "cell_type": "code",
   "execution_count": 9,
   "id": "e6233e85",
   "metadata": {},
   "outputs": [],
   "source": [
    "result = df_ner[[\"Extracted Entities (Project Name)\", \"Extracted Entities (Project Development Objective)\"]]"
   ]
  },
  {
   "cell_type": "code",
   "execution_count": 10,
   "id": "2bc4261d",
   "metadata": {},
   "outputs": [
    {
     "data": {
      "text/html": [
       "<div>\n",
       "<style scoped>\n",
       "    .dataframe tbody tr th:only-of-type {\n",
       "        vertical-align: middle;\n",
       "    }\n",
       "\n",
       "    .dataframe tbody tr th {\n",
       "        vertical-align: top;\n",
       "    }\n",
       "\n",
       "    .dataframe thead th {\n",
       "        text-align: right;\n",
       "    }\n",
       "</style>\n",
       "<table border=\"1\" class=\"dataframe\">\n",
       "  <thead>\n",
       "    <tr style=\"text-align: right;\">\n",
       "      <th></th>\n",
       "      <th>Extracted Entities (Project Name)</th>\n",
       "      <th>Extracted Entities (Project Development Objective)</th>\n",
       "    </tr>\n",
       "  </thead>\n",
       "  <tbody>\n",
       "    <tr>\n",
       "      <th>0</th>\n",
       "      <td>[]</td>\n",
       "      <td>[(Determined, ORG)]</td>\n",
       "    </tr>\n",
       "    <tr>\n",
       "      <th>1</th>\n",
       "      <td>[(Agricultural Machinery Project, ORG)]</td>\n",
       "      <td>[(Determined, ORG)]</td>\n",
       "    </tr>\n",
       "    <tr>\n",
       "      <th>2</th>\n",
       "      <td>[(Electric Power Development Project, ORG)]</td>\n",
       "      <td>[(Determined, ORG)]</td>\n",
       "    </tr>\n",
       "    <tr>\n",
       "      <th>3</th>\n",
       "      <td>[(Electric Power Development Project, ORG)]</td>\n",
       "      <td>[(Determined, ORG)]</td>\n",
       "    </tr>\n",
       "    <tr>\n",
       "      <th>4</th>\n",
       "      <td>[(Telephone Project, ORG)]</td>\n",
       "      <td>[(Determined, ORG)]</td>\n",
       "    </tr>\n",
       "  </tbody>\n",
       "</table>\n",
       "</div>"
      ],
      "text/plain": [
       "             Extracted Entities (Project Name)  \\\n",
       "0                                           []   \n",
       "1      [(Agricultural Machinery Project, ORG)]   \n",
       "2  [(Electric Power Development Project, ORG)]   \n",
       "3  [(Electric Power Development Project, ORG)]   \n",
       "4                   [(Telephone Project, ORG)]   \n",
       "\n",
       "  Extracted Entities (Project Development Objective)  \n",
       "0                                [(Determined, ORG)]  \n",
       "1                                [(Determined, ORG)]  \n",
       "2                                [(Determined, ORG)]  \n",
       "3                                [(Determined, ORG)]  \n",
       "4                                [(Determined, ORG)]  "
      ]
     },
     "execution_count": 10,
     "metadata": {},
     "output_type": "execute_result"
    }
   ],
   "source": [
    "result.head()"
   ]
  },
  {
   "cell_type": "code",
   "execution_count": null,
   "id": "41315168",
   "metadata": {},
   "outputs": [],
   "source": []
  }
 ],
 "metadata": {
  "kernelspec": {
   "display_name": "Python 3 (ipykernel)",
   "language": "python",
   "name": "python3"
  },
  "language_info": {
   "codemirror_mode": {
    "name": "ipython",
    "version": 3
   },
   "file_extension": ".py",
   "mimetype": "text/x-python",
   "name": "python",
   "nbconvert_exporter": "python",
   "pygments_lexer": "ipython3",
   "version": "3.9.5"
  }
 },
 "nbformat": 4,
 "nbformat_minor": 5
}
